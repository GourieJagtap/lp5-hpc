{
  "nbformat": 4,
  "nbformat_minor": 0,
  "metadata": {
    "colab": {
      "provenance": [],
      "gpuType": "T4"
    },
    "kernelspec": {
      "name": "python3",
      "display_name": "Python 3"
    },
    "language_info": {
      "name": "python"
    },
    "accelerator": "GPU"
  },
  "cells": [
    {
      "cell_type": "code",
      "execution_count": 1,
      "metadata": {
        "colab": {
          "base_uri": "https://localhost:8080/"
        },
        "id": "hTyUDt5yHwQc",
        "outputId": "c2c923d9-6dcd-4ba2-c64f-05c3b2f1d935"
      },
      "outputs": [
        {
          "output_type": "stream",
          "name": "stdout",
          "text": [
            "Collecting git+https://github.com/afnan47/cuda.git\n",
            "  Cloning https://github.com/afnan47/cuda.git to /tmp/pip-req-build-fux9vtko\n",
            "  Running command git clone --filter=blob:none --quiet https://github.com/afnan47/cuda.git /tmp/pip-req-build-fux9vtko\n",
            "  Resolved https://github.com/afnan47/cuda.git to commit aac710a35f52bb78ab34d2e52517237941399eff\n",
            "  Preparing metadata (setup.py) ... \u001b[?25l\u001b[?25hdone\n",
            "Building wheels for collected packages: NVCCPlugin\n",
            "  Building wheel for NVCCPlugin (setup.py) ... \u001b[?25l\u001b[?25hdone\n",
            "  Created wheel for NVCCPlugin: filename=NVCCPlugin-0.0.2-py3-none-any.whl size=4289 sha256=cdedb7c484a07085f25d328527beed3797b51fdfff6f3d14f4c6200d9ef3bb99\n",
            "  Stored in directory: /tmp/pip-ephem-wheel-cache-gncg6l3c/wheels/aa/f3/44/e10c1d226ec561d971fcd4b0463f6bff08602afa928a3e7bc7\n",
            "Successfully built NVCCPlugin\n",
            "Installing collected packages: NVCCPlugin\n",
            "Successfully installed NVCCPlugin-0.0.2\n"
          ]
        }
      ],
      "source": [
        "!pip install git+https://github.com/afnan47/cuda.git"
      ]
    },
    {
      "cell_type": "code",
      "source": [
        "%load_ext nvcc_plugin"
      ],
      "metadata": {
        "colab": {
          "base_uri": "https://localhost:8080/"
        },
        "id": "W6yItM_rH07f",
        "outputId": "61869627-d7c8-49d3-8c7f-1ab1e249123c"
      },
      "execution_count": 2,
      "outputs": [
        {
          "output_type": "stream",
          "name": "stdout",
          "text": [
            "created output directory at /content/src\n",
            "Out bin /content/result.out\n"
          ]
        }
      ]
    },
    {
      "cell_type": "code",
      "source": [
        "# ass 4 matrix multiplication\n",
        "%%writefile ass4matrixmultiplication.cu\n",
        "\n",
        "\n",
        "// matrix_multiplication.cu\n",
        "\n",
        "#include <iostream>\n",
        "using namespace std;\n",
        "\n",
        "__global__ void multiply(int* A, int* B, int* C, int size) {\n",
        "    int row = blockIdx.y * blockDim.y + threadIdx.y;\n",
        "    int col = blockIdx.x * blockDim.x + threadIdx.x;\n",
        "\n",
        "    if (row < size && col < size) {\n",
        "        int sum = 0;\n",
        "        for (int i = 0; i < size; i++) {\n",
        "            sum += A[row * size + i] * B[i * size + col];\n",
        "        }\n",
        "        C[row * size + col] = sum;\n",
        "    }\n",
        "}\n",
        "\n",
        "int main() {\n",
        "    const int N = 2;\n",
        "    const int matrixSize = N * N;\n",
        "    const size_t matrixBytes = matrixSize * sizeof(int);\n",
        "\n",
        "    int* A, * B, * C;\n",
        "    A = new int[matrixSize];\n",
        "    B = new int[matrixSize];\n",
        "    C = new int[matrixSize];\n",
        "\n",
        "    // Initialize matrices A and B\n",
        "    for (int i = 0; i < matrixSize; i++) {\n",
        "        A[i] = rand() % 10;\n",
        "        B[i] = rand() % 10;\n",
        "    }\n",
        "\n",
        "    // Print matrices A and B\n",
        "    cout << \"Matrix A: \\n\";\n",
        "    for (int i = 0; i < matrixSize; i++) {\n",
        "        cout << A[i] << \" \";\n",
        "        if ((i + 1) % N == 0) cout << endl;\n",
        "    }\n",
        "    cout << endl;\n",
        "\n",
        "    cout << \"Matrix B: \\n\";\n",
        "    for (int i = 0; i < matrixSize; i++) {\n",
        "        cout << B[i] << \" \";\n",
        "        if ((i + 1) % N == 0) cout << endl;\n",
        "    }\n",
        "    cout << endl;\n",
        "\n",
        "    int* d_A, * d_B, * d_C;\n",
        "    cudaMalloc(&d_A, matrixBytes);\n",
        "    cudaMalloc(&d_B, matrixBytes);\n",
        "    cudaMalloc(&d_C, matrixBytes);\n",
        "\n",
        "    cudaMemcpy(d_A, A, matrixBytes, cudaMemcpyHostToDevice);\n",
        "    cudaMemcpy(d_B, B, matrixBytes, cudaMemcpyHostToDevice);\n",
        "\n",
        "    dim3 threadsPerBlock(16, 16);\n",
        "    dim3 numBlocks((N + 15) / 16, (N + 15) / 16);\n",
        "\n",
        "    multiply<<<numBlocks, threadsPerBlock>>>(d_A, d_B, d_C, N);\n",
        "\n",
        "    cudaMemcpy(C, d_C, matrixBytes, cudaMemcpyDeviceToHost);\n",
        "\n",
        "    // Print result matrix C\n",
        "    cout << \"Result Matrix C: \\n\";\n",
        "    for (int i = 0; i < matrixSize; i++) {\n",
        "        cout << C[i] << \" \";\n",
        "        if ((i + 1) % N == 0) cout << endl;\n",
        "    }\n",
        "    cout << endl;\n",
        "\n",
        "    delete[] A;\n",
        "    delete[] B;\n",
        "    delete[] C;\n",
        "    cudaFree(d_A);\n",
        "    cudaFree(d_B);\n",
        "    cudaFree(d_C);\n",
        "\n",
        "    return 0;\n",
        "}"
      ],
      "metadata": {
        "colab": {
          "base_uri": "https://localhost:8080/"
        },
        "id": "vHgFU9UEIG6R",
        "outputId": "2b19a7d2-79b6-4e50-ec33-acf042755a74"
      },
      "execution_count": 3,
      "outputs": [
        {
          "output_type": "stream",
          "name": "stdout",
          "text": [
            "Writing ass4matrixmultiplication.cu\n"
          ]
        }
      ]
    },
    {
      "cell_type": "code",
      "source": [
        "!nvcc -o ass4matrixmultiplication ass4matrixmultiplication.cu -Xcompiler -fopenmp\n",
        "!./ass4matrixmultiplication"
      ],
      "metadata": {
        "colab": {
          "base_uri": "https://localhost:8080/"
        },
        "id": "0VRtxNrGIOGh",
        "outputId": "6a233e57-a9db-41c1-c088-1ffb60ce9db1"
      },
      "execution_count": 4,
      "outputs": [
        {
          "output_type": "stream",
          "name": "stdout",
          "text": [
            "Matrix A: \n",
            "3 7 \n",
            "3 6 \n",
            "\n",
            "Matrix B: \n",
            "6 5 \n",
            "5 2 \n",
            "\n",
            "Result Matrix C: \n",
            "53 29 \n",
            "48 27 \n",
            "\n"
          ]
        }
      ]
    },
    {
      "cell_type": "code",
      "source": [],
      "metadata": {
        "id": "3eBizekbIRu3"
      },
      "execution_count": null,
      "outputs": []
    }
  ]
}