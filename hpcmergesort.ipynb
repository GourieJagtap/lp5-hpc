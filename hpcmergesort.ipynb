{
  "nbformat": 4,
  "nbformat_minor": 0,
  "metadata": {
    "colab": {
      "provenance": [],
      "gpuType": "T4"
    },
    "kernelspec": {
      "name": "python3",
      "display_name": "Python 3"
    },
    "language_info": {
      "name": "python"
    },
    "accelerator": "GPU"
  },
  "cells": [
    {
      "cell_type": "code",
      "execution_count": 1,
      "metadata": {
        "colab": {
          "base_uri": "https://localhost:8080/"
        },
        "id": "zJYggm2bDf5C",
        "outputId": "ac7e1bb2-5b87-46a3-a81a-cb4dd1041d44"
      },
      "outputs": [
        {
          "output_type": "stream",
          "name": "stdout",
          "text": [
            "Collecting git+https://github.com/afnan47/cuda.git\n",
            "  Cloning https://github.com/afnan47/cuda.git to /tmp/pip-req-build-wtpv91jy\n",
            "  Running command git clone --filter=blob:none --quiet https://github.com/afnan47/cuda.git /tmp/pip-req-build-wtpv91jy\n",
            "  Resolved https://github.com/afnan47/cuda.git to commit aac710a35f52bb78ab34d2e52517237941399eff\n",
            "  Preparing metadata (setup.py) ... \u001b[?25l\u001b[?25hdone\n",
            "Building wheels for collected packages: NVCCPlugin\n",
            "  Building wheel for NVCCPlugin (setup.py) ... \u001b[?25l\u001b[?25hdone\n",
            "  Created wheel for NVCCPlugin: filename=NVCCPlugin-0.0.2-py3-none-any.whl size=4289 sha256=71df9addfb11a61e28f7f5a2f9b5b47c4765cb8291ad561234a65dac893f30c6\n",
            "  Stored in directory: /tmp/pip-ephem-wheel-cache-st7bnv7o/wheels/aa/f3/44/e10c1d226ec561d971fcd4b0463f6bff08602afa928a3e7bc7\n",
            "Successfully built NVCCPlugin\n",
            "Installing collected packages: NVCCPlugin\n",
            "Successfully installed NVCCPlugin-0.0.2\n"
          ]
        }
      ],
      "source": [
        "!pip install git+https://github.com/afnan47/cuda.git"
      ]
    },
    {
      "cell_type": "code",
      "source": [
        "%load_ext nvcc_plugin"
      ],
      "metadata": {
        "colab": {
          "base_uri": "https://localhost:8080/"
        },
        "id": "VjA86DfsDk-K",
        "outputId": "d455bfec-8048-4f73-e3ca-6818fb270268"
      },
      "execution_count": 2,
      "outputs": [
        {
          "output_type": "stream",
          "name": "stdout",
          "text": [
            "created output directory at /content/src\n",
            "Out bin /content/result.out\n"
          ]
        }
      ]
    },
    {
      "cell_type": "code",
      "source": [
        "%%writefile ass2parallelmergesort.cu\n",
        "\n",
        "#include <iostream>\n",
        "#include <omp.h>\n",
        "using namespace std;\n",
        "\n",
        "void merge(int arr[], int low, int mid, int high) {\n",
        "    // Create arrays of left and right partitions\n",
        "    int n1 = mid - low + 1;\n",
        "    int n2 = high - mid;\n",
        "    int left[n1];\n",
        "    int right[n2];\n",
        "\n",
        "    // Copy all left elements\n",
        "    for (int i = 0; i < n1; i++)\n",
        "        left[i] = arr[low + i];\n",
        "\n",
        "    // Copy all right elements\n",
        "    for (int j = 0; j < n2; j++)\n",
        "        right[j] = arr[mid + 1 + j];\n",
        "\n",
        "    // Compare and place elements\n",
        "    int i = 0, j = 0, k = low;\n",
        "    while (i < n1 && j < n2) {\n",
        "        if (left[i] <= right[j]) {\n",
        "            arr[k] = left[i];\n",
        "            i++;\n",
        "        } else {\n",
        "            arr[k] = right[j];\n",
        "            j++;\n",
        "        }\n",
        "        k++;\n",
        "    }\n",
        "\n",
        "    // If any elements are left out\n",
        "    while (i < n1) {\n",
        "        arr[k] = left[i];\n",
        "        i++;\n",
        "        k++;\n",
        "    }\n",
        "    while (j < n2) {\n",
        "        arr[k] = right[j];\n",
        "        j++;\n",
        "        k++;\n",
        "    }\n",
        "}\n",
        "\n",
        "void parallelMergeSort(int arr[], int low, int high) {\n",
        "    if (low < high) {\n",
        "        int mid = (low + high) / 2;\n",
        "#pragma omp parallel sections\n",
        "        {\n",
        "#pragma omp section\n",
        "            {\n",
        "                parallelMergeSort(arr, low, mid);\n",
        "            }\n",
        "#pragma omp section\n",
        "            {\n",
        "                parallelMergeSort(arr, mid + 1, high);\n",
        "            }\n",
        "        }\n",
        "        merge(arr, low, mid, high);\n",
        "    }\n",
        "}\n",
        "\n",
        "void mergeSort(int arr[], int low, int high) {\n",
        "    if (low < high) {\n",
        "        int mid = (low + high) / 2;\n",
        "        mergeSort(arr, low, mid);\n",
        "        mergeSort(arr, mid + 1, high);\n",
        "        merge(arr, low, mid, high);\n",
        "    }\n",
        "}\n",
        "\n",
        "int main() {\n",
        "    int n = 1000;\n",
        "    int arr[n];\n",
        "    double start_time, end_time;\n",
        "\n",
        "    // Create an array with numbers starting from n to 1.\n",
        "    for (int i = 0, j = n; i < n; i++, j--)\n",
        "        arr[i] = j;\n",
        "\n",
        "    // Measure Sequential Time\n",
        "    start_time = omp_get_wtime();\n",
        "    mergeSort(arr, 0, n - 1);\n",
        "    end_time = omp_get_wtime();\n",
        "    cout << \"Time taken by sequential algorithm: \" << end_time - start_time << \" seconds\\n\";\n",
        "\n",
        "    // Reset the array\n",
        "    for (int i = 0, j = n; i < n; i++, j--)\n",
        "        arr[i] = j;\n",
        "\n",
        "    // Measure Parallel time\n",
        "    start_time = omp_get_wtime();\n",
        "    parallelMergeSort(arr, 0, n - 1);\n",
        "    end_time = omp_get_wtime();\n",
        "    cout << \"Time taken by parallel algorithm: \" << end_time - start_time << \" seconds\";\n",
        "\n",
        "    return 0;\n",
        "}"
      ],
      "metadata": {
        "colab": {
          "base_uri": "https://localhost:8080/"
        },
        "id": "4qceGbivEBOb",
        "outputId": "c96b2e0e-aa03-4f85-c79c-722348c20bcf"
      },
      "execution_count": 3,
      "outputs": [
        {
          "output_type": "stream",
          "name": "stdout",
          "text": [
            "Writing ass2parallelmergesort.cu\n"
          ]
        }
      ]
    },
    {
      "cell_type": "code",
      "source": [
        "!nvcc -o ass2parallelmergesort ass2parallelmergesort.cu -Xcompiler -fopenmp\n",
        "!./ass2parallelmergesort"
      ],
      "metadata": {
        "colab": {
          "base_uri": "https://localhost:8080/"
        },
        "id": "gT9nAq14EB2s",
        "outputId": "cd9de4be-72cf-4c8e-b4a9-ae33ed9fc5a2"
      },
      "execution_count": 4,
      "outputs": [
        {
          "output_type": "stream",
          "name": "stdout",
          "text": [
            "Time taken by sequential algorithm: 9.1102e-05 seconds\n",
            "Time taken by parallel algorithm: 0.000750025 seconds"
          ]
        }
      ]
    },
    {
      "cell_type": "code",
      "source": [],
      "metadata": {
        "id": "tng82GNvENsV"
      },
      "execution_count": null,
      "outputs": []
    }
  ]
}