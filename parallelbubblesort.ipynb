{
  "nbformat": 4,
  "nbformat_minor": 0,
  "metadata": {
    "colab": {
      "provenance": [],
      "gpuType": "T4"
    },
    "kernelspec": {
      "name": "python3",
      "display_name": "Python 3"
    },
    "language_info": {
      "name": "python"
    },
    "accelerator": "GPU"
  },
  "cells": [
    {
      "cell_type": "code",
      "execution_count": 1,
      "metadata": {
        "colab": {
          "base_uri": "https://localhost:8080/"
        },
        "id": "A-cGNYbBAHjH",
        "outputId": "1aeb9794-dacd-46b8-9f6b-164d9ecafa3e"
      },
      "outputs": [
        {
          "output_type": "stream",
          "name": "stdout",
          "text": [
            "Collecting git+https://github.com/afnan47/cuda.git\n",
            "  Cloning https://github.com/afnan47/cuda.git to /tmp/pip-req-build-hw0vqcg5\n",
            "  Running command git clone --filter=blob:none --quiet https://github.com/afnan47/cuda.git /tmp/pip-req-build-hw0vqcg5\n",
            "  Resolved https://github.com/afnan47/cuda.git to commit aac710a35f52bb78ab34d2e52517237941399eff\n",
            "  Preparing metadata (setup.py) ... \u001b[?25l\u001b[?25hdone\n",
            "Building wheels for collected packages: NVCCPlugin\n",
            "  Building wheel for NVCCPlugin (setup.py) ... \u001b[?25l\u001b[?25hdone\n",
            "  Created wheel for NVCCPlugin: filename=NVCCPlugin-0.0.2-py3-none-any.whl size=4289 sha256=e43cb74d1fca30004873497ef1b7463ffc7dfcbabab111e5efa6cdedcef4126a\n",
            "  Stored in directory: /tmp/pip-ephem-wheel-cache-3k9btmtq/wheels/aa/f3/44/e10c1d226ec561d971fcd4b0463f6bff08602afa928a3e7bc7\n",
            "Successfully built NVCCPlugin\n",
            "Installing collected packages: NVCCPlugin\n",
            "Successfully installed NVCCPlugin-0.0.2\n"
          ]
        }
      ],
      "source": [
        "!pip install git+https://github.com/afnan47/cuda.git"
      ]
    },
    {
      "cell_type": "code",
      "source": [
        "%load_ext nvcc_plugin"
      ],
      "metadata": {
        "colab": {
          "base_uri": "https://localhost:8080/"
        },
        "id": "Qyf2zPotAacU",
        "outputId": "09911c81-1083-4457-e740-65191f4ec46a"
      },
      "execution_count": 2,
      "outputs": [
        {
          "output_type": "stream",
          "name": "stdout",
          "text": [
            "created output directory at /content/src\n",
            "Out bin /content/result.out\n"
          ]
        }
      ]
    },
    {
      "cell_type": "code",
      "source": [
        "%%writefile parallelbubblesort.cu"
      ],
      "metadata": {
        "colab": {
          "base_uri": "https://localhost:8080/"
        },
        "id": "5XzBEO-4BSeZ",
        "outputId": "9018998a-fd3e-47c5-d7de-8b01cf39c706"
      },
      "execution_count": 3,
      "outputs": [
        {
          "output_type": "stream",
          "name": "stdout",
          "text": [
            "Writing parallelbubblesort.cu\n"
          ]
        }
      ]
    },
    {
      "cell_type": "code",
      "source": [
        "%%writefile ass2parallelbubble.cu\n",
        "\n",
        "#include<iostream>\n",
        "#include<omp.h>\n",
        "using namespace std;\n",
        "void bubble(int array[], int n){\n",
        "for (int i = 0; i < n - 1; i++){\n",
        "for (int j = 0; j < n - i - 1; j++){\n",
        "if (array[j] > array[j + 1]) swap(array[j], array[j + 1]);\n",
        "}\n",
        "}\n",
        "}\n",
        "void pBubble(int array[], int n){\n",
        "//Sort odd indexed numbers\n",
        "for(int i = 0; i < n; ++i){\n",
        "#pragma omp for\n",
        "for (int j = 1; j < n; j += 2){\n",
        "if (array[j] < array[j-1])\n",
        "{\n",
        "swap(array[j], array[j - 1]);\n",
        "}\n",
        "}\n",
        "// Synchronize\n",
        "#pragma omp barrier\n",
        "//Sort even indexed numbers\n",
        "#pragma omp for\n",
        "for (int j = 2; j < n; j += 2){\n",
        "if (array[j] < array[j-1])\n",
        "{\n",
        "swap(array[j], array[j - 1]);\n",
        "}\n",
        "}\n",
        "}\n",
        "}\n",
        "void printArray(int arr[], int n){\n",
        "for(int i = 0; i < n; i++) cout << arr[i] << \" \";\n",
        "cout << \"\\n\";\n",
        "}\n",
        "int main(){\n",
        "// Set up variables\n",
        "int n = 10;\n",
        "int arr[n];\n",
        "int brr[n];\n",
        "double start_time, end_time;\n",
        "// Create an array with numbers starting from n to 1\n",
        "for(int i = 0, j = n; i < n; i++, j--) arr[i] = j;\n",
        "// Sequential time\n",
        "start_time = omp_get_wtime();\n",
        "bubble(arr, n);\n",
        "end_time = omp_get_wtime();\n",
        "cout << \"Sequential Bubble Sort took : \" << end_time - start_time << \" seconds.\\n\";\n",
        "printArray(arr, n);\n",
        "// Reset the array\n",
        "for(int i = 0, j = n; i < n; i++, j--) arr[i] = j;\n",
        "// Parallel time\n",
        "start_time = omp_get_wtime();\n",
        "pBubble(arr, n);\n",
        "end_time = omp_get_wtime();\n",
        "cout << \"Parallel Bubble Sort took : \" << end_time - start_time << \" seconds.\\n\";\n",
        "printArray(arr, n);\n",
        "}"
      ],
      "metadata": {
        "colab": {
          "base_uri": "https://localhost:8080/"
        },
        "id": "jcDoLScOBaBW",
        "outputId": "5ebe1556-831b-4ef9-918b-02740abc8391"
      },
      "execution_count": 4,
      "outputs": [
        {
          "output_type": "stream",
          "name": "stdout",
          "text": [
            "Writing ass2parallelbubble.cu\n"
          ]
        }
      ]
    },
    {
      "cell_type": "code",
      "source": [
        "!nvcc -o ass2parallelbubble ass2parallelbubble.cu -Xcompiler -fopenmp\n",
        "!./ass2parallelbubble"
      ],
      "metadata": {
        "colab": {
          "base_uri": "https://localhost:8080/"
        },
        "id": "3YgZEyY0Bf0f",
        "outputId": "11ed9ff3-9b65-4ea0-8c6f-3edb032b753a"
      },
      "execution_count": 5,
      "outputs": [
        {
          "output_type": "stream",
          "name": "stdout",
          "text": [
            "\u001b[01m\u001b[0m\u001b[01mass2parallelbubble.cu(42)\u001b[0m: \u001b[01;35mwarning\u001b[0m #177-D: variable \u001b[01m\"brr\"\u001b[0m was declared but never referenced\n",
            "  int brr[n];\n",
            "      ^\n",
            "\n",
            "\u001b[01;36m\u001b[0m\u001b[01;36mRemark\u001b[0m: The warnings can be suppressed with \"-diag-suppress <warning-number>\"\n",
            "\n",
            "Sequential Bubble Sort took : 1.145e-06 seconds.\n",
            "1 2 3 4 5 6 7 8 9 10 \n",
            "Parallel Bubble Sort took : 2.036e-06 seconds.\n",
            "1 2 3 4 5 6 7 8 9 10 \n"
          ]
        }
      ]
    },
    {
      "cell_type": "code",
      "source": [],
      "metadata": {
        "id": "2UQ9P16BBnD2"
      },
      "execution_count": null,
      "outputs": []
    }
  ]
}